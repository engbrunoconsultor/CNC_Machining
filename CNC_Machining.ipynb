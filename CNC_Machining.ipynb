{
  "nbformat": 4,
  "nbformat_minor": 0,
  "metadata": {
    "colab": {
      "provenance": [],
      "authorship_tag": "ABX9TyPeRuY5nvkPo2nrjmQMERj1",
      "include_colab_link": true
    },
    "kernelspec": {
      "name": "python3",
      "display_name": "Python 3"
    },
    "language_info": {
      "name": "python"
    }
  },
  "cells": [
    {
      "cell_type": "markdown",
      "metadata": {
        "id": "view-in-github",
        "colab_type": "text"
      },
      "source": [
        "<a href=\"https://colab.research.google.com/github/engbrunoconsultor/CNC_Machining/blob/feature_01/CNC_Machining.ipynb\" target=\"_parent\"><img src=\"https://colab.research.google.com/assets/colab-badge.svg\" alt=\"Open In Colab\"/></a>"
      ]
    },
    {
      "cell_type": "code",
      "execution_count": 15,
      "metadata": {
        "id": "1atb1WcRk2J8"
      },
      "outputs": [],
      "source": [
        "import pandas as pd\n",
        "import requests, io, tempfile, os"
      ]
    },
    {
      "cell_type": "code",
      "source": [
        "owner = \"engbrunoconsultor\"\n",
        "repo = \"CNC_Machining\"\n",
        "branch = \"feature_01\"\n",
        "root_paste = \"data\"\n",
        "\n",
        "\n"
      ],
      "metadata": {
        "id": "ZzWUD0TNoM_R"
      },
      "execution_count": 16,
      "outputs": []
    },
    {
      "cell_type": "markdown",
      "source": [
        "Descubra as keys que o arquivo possui"
      ],
      "metadata": {
        "id": "Tu8H7tN00Uq4"
      }
    },
    {
      "cell_type": "code",
      "source": [
        "def descobre_keys(binario):\n",
        "    with tempfile.NamedTemporaryFile(suffix=\".h5\", delete=False) as tmp:\n",
        "        tmp.write(binario)\n",
        "        path = tmp.name\n",
        "    try:\n",
        "        with pd.HDFStore(path, mode=\"r\") as store:\n",
        "            return store.keys()       # ex.: ['/df'] ou ['/table'] etc.\n",
        "    finally:\n",
        "        os.remove(path)\n",
        "\n",
        "# exemplo só com o primeiro arquivo:\n",
        "arq_teste = h5_file_list(owner, repo, branch,\n",
        "                              \"data/M01/OP00/good\")[0]\n",
        "binario   = requests.get(arq_teste[\"download_url\"]).content\n",
        "print(descobre_keys(binario))"
      ],
      "metadata": {
        "colab": {
          "base_uri": "https://localhost:8080/"
        },
        "id": "s_Ru4KX2uGMB",
        "outputId": "014ef8e6-37e8-4646-d62b-6741e18f534d"
      },
      "execution_count": 20,
      "outputs": [
        {
          "output_type": "stream",
          "name": "stdout",
          "text": [
            "[]\n"
          ]
        }
      ]
    },
    {
      "cell_type": "code",
      "source": [
        "def bytes_to_df(h5_bytes, key=None):\n",
        "    \"\"\"Detecta a key se não for informada e devolve DataFrame.\"\"\"\n",
        "    import pandas as pd, tempfile, os\n",
        "\n",
        "    with tempfile.NamedTemporaryFile(suffix=\".h5\", delete=False) as tmp:\n",
        "        tmp.write(h5_bytes)\n",
        "        path = tmp.name\n",
        "\n",
        "    try:\n",
        "        # Se o usuário NÃO passou key, tenta inferir:\n",
        "        if key is None:\n",
        "            try:\n",
        "                return pd.read_hdf(path)           # pandas infere se houver 1 só\n",
        "            except KeyError:\n",
        "                pass                    # continua para detecção manual\n",
        "\n",
        "        # Se key foi passada mas falhou ou ainda não sabemos:\n",
        "        with pd.HDFStore(path, \"r\") as store:\n",
        "            keys = store.keys()         # lista todas\n",
        "        if not keys:\n",
        "            raise ValueError(\"Arquivo HDF5 vazio\")\n",
        "        if key is None or key not in keys:\n",
        "            key = keys[0]               # usa a primeira disponível\n",
        "        return pd.read_hdf(path, key=key)\n",
        "    finally:\n",
        "        os.remove(path)\n"
      ],
      "metadata": {
        "id": "lKHCsbsYtN4a"
      },
      "execution_count": 21,
      "outputs": []
    },
    {
      "cell_type": "markdown",
      "source": [
        "Ler o dataset certo e virar DataFrame"
      ],
      "metadata": {
        "id": "qGwTYhTp0L7p"
      }
    },
    {
      "cell_type": "code",
      "source": [
        "import pandas as pd, numpy as np, tempfile, os\n",
        "\n",
        "def bytes_to_df_flex(h5_bytes, dataset_path=None):\n",
        "    \"\"\"\n",
        "    Tenta ler via pandas; se falhar, abre com h5py\n",
        "    e converte o dataset_path escolhido em DataFrame.\n",
        "    \"\"\"\n",
        "    with tempfile.NamedTemporaryFile(suffix=\".h5\", delete=False) as tmp:\n",
        "        tmp.write(h5_bytes)\n",
        "        path = tmp.name\n",
        "\n",
        "    try:\n",
        "        # 1) primeiro tenta 'read_hdf' normal\n",
        "        try:\n",
        "            return pd.read_hdf(path)            # funciona se for estilo pandas\n",
        "        except (ValueError, KeyError):\n",
        "            pass                                # vai para fallback\n",
        "\n",
        "        # 2) fallback h5py\n",
        "        import h5py\n",
        "        with h5py.File(path, \"r\") as f:\n",
        "            # Se o usuário não informou qual dataset quer, pega o primeiro 2-D\n",
        "            if dataset_path is None:\n",
        "                # procura um dataset matriz (ndim==2)\n",
        "                for name in f:\n",
        "                    obj = f[name]\n",
        "                    if isinstance(obj, h5py.Dataset) and obj.ndim == 2:\n",
        "                        dataset_path = name\n",
        "                        break\n",
        "                else:\n",
        "                    raise ValueError(\"Nenhum dataset 2-D encontrado.\")\n",
        "\n",
        "            data = f[dataset_path][()]          # lê como ndarray\n",
        "\n",
        "        # cria DataFrame (colunas numeradas se não houver labels)\n",
        "        if data.ndim == 1:\n",
        "            df = pd.DataFrame({\"value\": data})\n",
        "        else:\n",
        "            cols = [f\"col_{i}\" for i in range(data.shape[1])]\n",
        "            df = pd.DataFrame(data, columns=cols)\n",
        "\n",
        "        return df\n",
        "\n",
        "    finally:\n",
        "        os.remove(path)\n"
      ],
      "metadata": {
        "id": "2mOjy9Rlw99p"
      },
      "execution_count": 24,
      "outputs": []
    },
    {
      "cell_type": "code",
      "source": [
        "def h5_file_list(owner, repo, branch, api_path):\n",
        "  url = f\"https://api.github.com/repos/{owner}/{repo}/contents/{api_path}?ref={branch}\"\n",
        "  resp = requests.get(url)\n",
        "  resp.raise_for_status()\n",
        "  conteudo = resp.json()\n",
        "  return [item for item in conteudo if item[\"name\"].lower().endswith(\".h5\")]\n",
        "\n",
        "\n",
        "\n"
      ],
      "metadata": {
        "id": "97iXTPThq6bt"
      },
      "execution_count": 22,
      "outputs": []
    },
    {
      "cell_type": "markdown",
      "source": [
        "Iterar sobre os itens"
      ],
      "metadata": {
        "id": "bEPKpUjx0HAh"
      }
    },
    {
      "cell_type": "code",
      "source": [
        "dfs = {}\n",
        "\n",
        "for machine in [\"M01\"]:\n",
        "    api_path = f\"{root_paste}/{machine}/OP00/good\"\n",
        "    for arq in h5_file_list(owner, repo, branch, api_path):\n",
        "        print(f\"Lendo {arq['path']}…\")\n",
        "        binario = requests.get(arq[\"download_url\"]).content   # baixa o .h5\n",
        "        try:\n",
        "          df = bytes_to_df_flex(binario)    # ← mudança aqui\n",
        "          dfs[f\"{machine}_{arq['name'][:-3]}\"] = df\n",
        "        except Exception as e:\n",
        "          print(f\" {arq['name']} ignorado: {e}\")\n",
        "\n",
        "print(\"Total lido =>\", len(dfs), \"DataFrames\")"
      ],
      "metadata": {
        "colab": {
          "base_uri": "https://localhost:8080/"
        },
        "id": "-dHsHFUctSHv",
        "outputId": "243568f6-fe4b-4d90-90e1-c245c31603da"
      },
      "execution_count": 25,
      "outputs": [
        {
          "output_type": "stream",
          "name": "stdout",
          "text": [
            "Lendo data/M01/OP00/good/M01_Aug_2019_OP00_000.h5…\n",
            "Lendo data/M01/OP00/good/M01_Aug_2019_OP00_001.h5…\n",
            "Lendo data/M01/OP00/good/M01_Aug_2019_OP00_003.h5…\n",
            "Lendo data/M01/OP00/good/M01_Aug_2019_OP00_004.h5…\n",
            "Lendo data/M01/OP00/good/M01_Aug_2019_OP00_005.h5…\n",
            "Lendo data/M01/OP00/good/M01_Aug_2019_OP00_006.h5…\n",
            "Lendo data/M01/OP00/good/M01_Aug_2019_OP00_007.h5…\n",
            "Lendo data/M01/OP00/good/M01_Aug_2019_OP00_008.h5…\n",
            "Lendo data/M01/OP00/good/M01_Aug_2019_OP00_009.h5…\n",
            "Lendo data/M01/OP00/good/M01_Aug_2019_OP00_010.h5…\n",
            "Lendo data/M01/OP00/good/M01_Aug_2019_OP00_011.h5…\n",
            "Lendo data/M01/OP00/good/M01_Aug_2019_OP00_012.h5…\n",
            "Lendo data/M01/OP00/good/M01_Aug_2019_OP00_013.h5…\n",
            "Lendo data/M01/OP00/good/M01_Aug_2021_OP00_002.h5…\n",
            "Lendo data/M01/OP00/good/M01_Aug_2021_OP00_003.h5…\n",
            "Lendo data/M01/OP00/good/M01_Feb_2019_OP00_000.h5…\n",
            "Lendo data/M01/OP00/good/M01_Feb_2019_OP00_001.h5…\n",
            "Lendo data/M01/OP00/good/M01_Feb_2019_OP00_002.h5…\n",
            "Lendo data/M01/OP00/good/M01_Feb_2019_OP00_003.h5…\n",
            "Lendo data/M01/OP00/good/M01_Feb_2019_OP00_004.h5…\n",
            "Lendo data/M01/OP00/good/M01_Feb_2020_OP00_001.h5…\n",
            "Lendo data/M01/OP00/good/M01_Feb_2020_OP00_002.h5…\n",
            "Lendo data/M01/OP00/good/M01_Feb_2021_OP00_003.h5…\n",
            "Lendo data/M01/OP00/good/M01_Feb_2021_OP00_004.h5…\n",
            "Lendo data/M01/OP00/good/M01_Feb_2021_OP00_005.h5…\n",
            "Lendo data/M01/OP00/good/M01_Feb_2021_OP00_006.h5…\n",
            "Lendo data/M01/OP00/good/M01_Feb_2021_OP00_007.h5…\n",
            "Lendo data/M01/OP00/good/M01_Feb_2021_OP00_008.h5…\n",
            "Lendo data/M01/OP00/good/M01_Feb_2021_OP00_009.h5…\n",
            "Total lido => 29 DataFrames\n"
          ]
        }
      ]
    },
    {
      "cell_type": "markdown",
      "source": [
        "Ver o que foi carregado"
      ],
      "metadata": {
        "id": "sRYLeV2p0COB"
      }
    },
    {
      "cell_type": "code",
      "source": [
        "# Quantos e quais DataFrames temos?\n",
        "print(f\"{len(dfs)} dataframes no dicionário\")\n",
        "print(list(dfs.keys())[:10])        # mostra só os 10 primeiros nomes\n"
      ],
      "metadata": {
        "colab": {
          "base_uri": "https://localhost:8080/"
        },
        "id": "al7jutZPzv3U",
        "outputId": "221df867-fc04-4832-9792-374739c0ee94"
      },
      "execution_count": 27,
      "outputs": [
        {
          "output_type": "stream",
          "name": "stdout",
          "text": [
            "29 dataframes no dicionário\n",
            "['M01_M01_Aug_2019_OP00_000', 'M01_M01_Aug_2019_OP00_001', 'M01_M01_Aug_2019_OP00_003', 'M01_M01_Aug_2019_OP00_004', 'M01_M01_Aug_2019_OP00_005', 'M01_M01_Aug_2019_OP00_006', 'M01_M01_Aug_2019_OP00_007', 'M01_M01_Aug_2019_OP00_008', 'M01_M01_Aug_2019_OP00_009', 'M01_M01_Aug_2019_OP00_010']\n"
          ]
        }
      ]
    },
    {
      "cell_type": "markdown",
      "source": [
        " tamanho de cada um"
      ],
      "metadata": {
        "id": "dxAlw7aRz_wW"
      }
    },
    {
      "cell_type": "code",
      "source": [
        "for nome, df in dfs.items():\n",
        "    print(f\"{nome:<30}  linhas={len(df):>8}  colunas={df.shape[1]}\")"
      ],
      "metadata": {
        "colab": {
          "base_uri": "https://localhost:8080/"
        },
        "id": "N_iCI1WFzzq8",
        "outputId": "88f2d227-7420-42a2-d962-e5e3ae1085fb"
      },
      "execution_count": 28,
      "outputs": [
        {
          "output_type": "stream",
          "name": "stdout",
          "text": [
            "M01_M01_Aug_2019_OP00_000       linhas=  268288  colunas=3\n",
            "M01_M01_Aug_2019_OP00_001       linhas=  268288  colunas=3\n",
            "M01_M01_Aug_2019_OP00_003       linhas=  268288  colunas=3\n",
            "M01_M01_Aug_2019_OP00_004       linhas=  264192  colunas=3\n",
            "M01_M01_Aug_2019_OP00_005       linhas=  268288  colunas=3\n",
            "M01_M01_Aug_2019_OP00_006       linhas=  268288  colunas=3\n",
            "M01_M01_Aug_2019_OP00_007       linhas=  269312  colunas=3\n",
            "M01_M01_Aug_2019_OP00_008       linhas=  268288  colunas=3\n",
            "M01_M01_Aug_2019_OP00_009       linhas=  263168  colunas=3\n",
            "M01_M01_Aug_2019_OP00_010       linhas=  268288  colunas=3\n",
            "M01_M01_Aug_2019_OP00_011       linhas=  268288  colunas=3\n",
            "M01_M01_Aug_2019_OP00_012       linhas=  269312  colunas=3\n",
            "M01_M01_Aug_2019_OP00_013       linhas=  268288  colunas=3\n",
            "M01_M01_Aug_2021_OP00_002       linhas=  268288  colunas=3\n",
            "M01_M01_Aug_2021_OP00_003       linhas=  269312  colunas=3\n",
            "M01_M01_Feb_2019_OP00_000       linhas=  266400  colunas=3\n",
            "M01_M01_Feb_2019_OP00_001       linhas=  265200  colunas=3\n",
            "M01_M01_Feb_2019_OP00_002       linhas=  266400  colunas=3\n",
            "M01_M01_Feb_2019_OP00_003       linhas=  264000  colunas=3\n",
            "M01_M01_Feb_2019_OP00_004       linhas=  265200  colunas=3\n",
            "M01_M01_Feb_2020_OP00_001       linhas=  273408  colunas=3\n",
            "M01_M01_Feb_2020_OP00_002       linhas=  271360  colunas=3\n",
            "M01_M01_Feb_2021_OP00_003       linhas=  269312  colunas=3\n",
            "M01_M01_Feb_2021_OP00_004       linhas=  267264  colunas=3\n",
            "M01_M01_Feb_2021_OP00_005       linhas=  267264  colunas=3\n",
            "M01_M01_Feb_2021_OP00_006       linhas=  268288  colunas=3\n",
            "M01_M01_Feb_2021_OP00_007       linhas=  270000  colunas=3\n",
            "M01_M01_Feb_2021_OP00_008       linhas=  268288  colunas=3\n",
            "M01_M01_Feb_2021_OP00_009       linhas=  268288  colunas=3\n"
          ]
        }
      ]
    },
    {
      "cell_type": "markdown",
      "source": [
        "Abrir (exibir) um DataFrame específico"
      ],
      "metadata": {
        "id": "8eqsyeBBz-Ao"
      }
    },
    {
      "cell_type": "code",
      "source": [
        "df_m01 = dfs[\"M01_nomeDoArquivo\"]   # troque pela key que apareceu acima\n",
        "display(df_m01.head())              # mostra as 5 primeiras linhas\n",
        "df_m01.info()                       # estrutura completa\n",
        "df_m01.describe()                   # estatísticas básicas\n"
      ],
      "metadata": {
        "id": "Qa9XpWh3z9Io"
      },
      "execution_count": null,
      "outputs": []
    }
  ]
}